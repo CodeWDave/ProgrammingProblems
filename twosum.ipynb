{
 "cells": [
  {
   "cell_type": "markdown",
   "metadata": {},
   "source": [
    "# Two Sums\n",
    "\n",
    "### Problem: https://leetcode.com/problems/two-sum/\n",
    "\n",
    "### Problem summary: \n",
    "\n",
    "Given a list of integers \"nums\" and an integer \"target\",  return indices of the two numbers such that they add up to target.\n",
    "\n",
    "#### Naive Solution:\n",
    "\n",
    "\n",
    "Brute force by iterating over every possible combination of elements in the list. If they add to the target return them.\n",
    "\n",
    "**Time Complexity:**\n",
    "\n",
    "*O(N^2)* \n",
    "\n",
    "Need to loop through list twice to create every possible combination of elements.\n",
    "\n",
    "**Memory complexity:**\n",
    "\n",
    "*O(1)* - No new memory is being alocated\n",
    "\n",
    "\n",
    "#### Efficent Solution:\n",
    "\n",
    "Create a dictionary containing previously parsed elements. \n",
    "\n",
    "Follow the format:\n",
    "\n",
    "{number required to reach the target: index of element being parsed}\n",
    " \n",
    "For each new element being parsed check to see if it is the number needed to reach the target for any of the list elements that have already been parsed. If it is the solution has been found, and the indeces can be returned. \n",
    "\n",
    "\n",
    "**Time Complexity:**\n",
    "\n",
    "O(N) - Only need to iterate over list once. \n",
    "\n",
    "Dictionary look up takes O(1) time and can be ignored.\n",
    "\n",
    "**Memory Complexity:**\n",
    "\n",
    "O(N) - Creation of dictionary can be reach the size of the array."
   ]
  },
  {
   "cell_type": "code",
   "execution_count": 1,
   "metadata": {},
   "outputs": [
    {
     "name": "stdout",
     "output_type": "stream",
     "text": [
      "[1, 4]\n"
     ]
    }
   ],
   "source": [
    "def naive_approach(nums, target):\n",
    "    # Time Complexity - O(N)\n",
    "    for i in range(len(nums)):      \n",
    "        # Time Complexity - O(N^2)    \n",
    "        for j in range(i+1, len(nums)): \n",
    "            if nums[i] + nums[j] == target: return [i,j]\n",
    "\n",
    "\n",
    "print(naive_approach([1,2,3,4,5], 7))"
   ]
  },
  {
   "cell_type": "code",
   "execution_count": 2,
   "metadata": {},
   "outputs": [],
   "source": [
    "def efficent_approach(nums, target):\n",
    "    # Follows format {target - num[i], i}\n",
    "    previously_parsed = {}\n",
    "    for i in range(len(nums)):\n",
    "        # Check to see if num[i] is the \n",
    "        # element needed to reach target value\n",
    "        # for any already parsed elements.\n",
    "        if nums[i] in previously_parsed: \n",
    "            # if it is return the pair of indices\n",
    "            return [previously_parsed[nums[i]], i]\n",
    "        #Otherwise add it to the dictionary and continue\n",
    "        else:\n",
    "            previously_parsed[target - nums[i]] = i\n"
   ]
  },
  {
   "cell_type": "code",
   "execution_count": 3,
   "metadata": {},
   "outputs": [
    {
     "name": "stdout",
     "output_type": "stream",
     "text": [
      "[[9998, 9999], 4.6172380447387695]\n",
      "[[9998, 9999], 0.0016570091247558594]\n"
     ]
    }
   ],
   "source": [
    "import time\n",
    "# It is easy to see time difference with a large array\n",
    "input_nums = list(range(10000))\n",
    "\n",
    "# Add last two elements in array so entire array will need to be parsed\n",
    "input_target = input_nums[-2] + input_nums[-1]\n",
    "\n",
    "def get_runtime(function):\n",
    "    start_time = time.time()\n",
    "    return_val = function(input_nums, input_target)\n",
    "    end_time = time.time()\n",
    "    return [return_val, end_time-start_time]\n",
    "\n",
    "print(get_runtime(naive_approach))\n",
    "print(get_runtime(efficent_approach))"
   ]
  }
 ],
 "metadata": {
  "kernelspec": {
   "display_name": "Python 3.8.8 ('base')",
   "language": "python",
   "name": "python3"
  },
  "language_info": {
   "codemirror_mode": {
    "name": "ipython",
    "version": 3
   },
   "file_extension": ".py",
   "mimetype": "text/x-python",
   "name": "python",
   "nbconvert_exporter": "python",
   "pygments_lexer": "ipython3",
   "version": "3.8.8"
  },
  "orig_nbformat": 4,
  "vscode": {
   "interpreter": {
    "hash": "ca3d29f37a1a1c4f5e7a988c75b7db15a8dc84e630022593e41cd81ca2ea4c4a"
   }
  }
 },
 "nbformat": 4,
 "nbformat_minor": 2
}
